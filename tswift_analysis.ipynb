{
 "cells": [
  {
   "cell_type": "code",
   "execution_count": 2,
   "metadata": {},
   "outputs": [],
   "source": [
    "from dotenv import load_dotenv\n",
    "import os\n",
    "import requests\n",
    "import pandas as pd\n",
    "import re\n",
    "from IPython.core.display import HTML\n",
    "\n",
    "# Utilized https://github.com/wjakethompson/taylor"
   ]
  },
  {
   "cell_type": "code",
   "execution_count": 3,
   "metadata": {},
   "outputs": [
    {
     "name": "stderr",
     "output_type": "stream",
     "text": [
      "C:\\Users\\nmack\\AppData\\Local\\Temp\\ipykernel_17776\\1126452840.py:42: FutureWarning: Setting an item of incompatible dtype is deprecated and will raise in a future error of pandas. Value 'It feels like a perfect night To dress up like hipsters And make fun of our exes Uh-uh, uh-uh It feels like a perfect night For breakfast at midnight To fall in love with strangers Uh-uh, uh-uh Yeah We're happy, free, confused, and lonely at the same time It's miserable and magical, oh yeah Tonight's the night when we forget about the deadlines It's time, oh-oh I don't know about you But I'm feelin' twenty-two Everything will be alright if You keep me next to you You don't know about me But I'll bet you want to Everything will be alright if We just keep dancin' like we're Twenty-two Twenty-two It seems like one of those nights This place is too crowded Too many cool kids Uh-uh, uh-uh (Who's Taylor Swift anyway? Ew) It seems like one of those nights We ditch the whole scene And end up dreamin' Instead of sleepin' Yeah We're happy, free, confused, and lonely in the best way It's miserable and magical, oh, yeah Tonight's the night when we forget about the heartbreaks It's time, oh-oh (Hey) I don't know about you But I'm feelin' twenty-two Everything will be alright if (Ooh) You keep me next to you You don't know about me But I'll bet you want to Everything will be alright if (Alright) We just keep dancin' like we're Twenty-two (Oh, oh, oh, oh, oh) Twenty-two (I don't know about you) Twenty-two Twenty-two (Ooh) It feels like one of those nights We ditch the whole scene It feels like one of those nights We won't be sleepin' It feels like one of those nights You look like bad news I gotta have you I gotta have you Ooh, oh Yeah, hey, yeah (Hey) I don't know about you (I don't know about you) But I'm feelin' twenty-two Everything will be alright if (Ooh, oh-oh) You keep me next to you You don't know about me (You don't know about me) But I'll bet you want to Everything will be alright if We just keep dancin' like we're (Dance like we're twenty-two) Twenty-two (Ooh, woah-oh-oh-oh) Twenty-two (Dancin' like) Twenty-two (Yeah, yeah) Twenty-two (Yeah, yeah, yeah) It feels like one of those nights (Twenty-two) We ditch the whole scene It feels like one of those nights (Twenty-two) We won't be sleepin' It feels like one of those nights (Twenty-two) You look like bad news I gotta have you I gotta have you' has dtype incompatible with float64, please explicitly cast to a compatible dtype first.\n",
      "  aggregate_df.at[idx, 'lyrics'] = lyrics\n"
     ]
    }
   ],
   "source": [
    "# songs_subset favors Taylor's Version over original, exludes remixes, demos, acoustic, and pop versions of songs. This eliminates duplication of lyrics in analysis.\n",
    "# Removed songs placed in songs_subset_removed\n",
    "\n",
    "# Load the aggregate data\n",
    "aggregate_df = pd.read_csv('taylor/data/taylor_song_sound_data.csv')\n",
    "\n",
    "\n",
    "songs_subset_path = 'taylor/data/songs_subset'\n",
    "\n",
    "# Function to standardize song titles and filenames\n",
    "def standardize_name(name):\n",
    "    # Convert to lowercase\n",
    "    name = name.lower()\n",
    "    # Remove special characters and common substrings\n",
    "    name = re.sub(r'[^a-z0-9]', '', name)\n",
    "    name = re.sub(r'popversion', '', name)\n",
    "    return name\n",
    "\n",
    "\n",
    "# Loop through each file in the songs_subset folder\n",
    "for filename in os.listdir(songs_subset_path):\n",
    "    if filename.endswith('.csv'):\n",
    "        file_path = os.path.join(songs_subset_path, filename)\n",
    "        \n",
    "        # Check if the file exists before attempting to open it\n",
    "        if os.path.isfile(file_path):\n",
    "            # Read the individual song file\n",
    "            song_df = pd.read_csv(file_path)\n",
    "            lyrics = ' '.join(song_df['lyric'].tolist())\n",
    "            \n",
    "            # Attempt to match the song title in aggregate_df to the filename\n",
    "            # The matching logic will depend on the actual column name and your data\n",
    "            standardized_filename = standardize_name(filename.replace('.csv', ''))\n",
    "            \n",
    "            # Find the corresponding track name in the aggregate dataframe\n",
    "            for song_title in aggregate_df['track_name']:\n",
    "                standardized_song_title = standardize_name(song_title)\n",
    "                # Check for a match using the standardized names\n",
    "                if standardized_song_title == standardized_filename:\n",
    "                    # If a match is found, update the lyrics column\n",
    "                    idx = aggregate_df.index[aggregate_df['track_name'] == song_title].tolist()[0]\n",
    "                    aggregate_df.at[idx, 'lyrics'] = lyrics\n",
    "                    break \n",
    "        else:\n",
    "            print(f\"File not found: {file_path}\")\n",
    "\n",
    "# Save the updated DataFrame\n",
    "aggregate_df.to_csv('taylor_song_sound_data_updated.csv', index=False)"
   ]
  },
  {
   "cell_type": "code",
   "execution_count": 4,
   "metadata": {},
   "outputs": [
    {
     "name": "stdout",
     "output_type": "stream",
     "text": [
      "False\n"
     ]
    }
   ],
   "source": [
    "# This will return a Series of booleans indicating whether each row contains the phrase\n",
    "file_not_found = aggregate_df['lyrics'].str.contains('File not found', na=False)\n",
    "\n",
    "# To simply check if any row contains \"file not found\" in 'lyrics':\n",
    "any_file_not_found = file_not_found.any()\n",
    "\n",
    "print(any_file_not_found)"
   ]
  },
  {
   "cell_type": "markdown",
   "metadata": {},
   "source": [
    "## Descriptive Analysis\n",
    "- How varied is the vocabulary used across different albums?\n",
    "- What words and/or phrases are repeated in each album and throughout all albums?"
   ]
  },
  {
   "cell_type": "code",
   "execution_count": 6,
   "metadata": {
    "tags": []
   },
   "outputs": [],
   "source": [
    "import spacy"
   ]
  },
  {
   "cell_type": "code",
   "execution_count": 7,
   "metadata": {
    "tags": []
   },
   "outputs": [],
   "source": [
    "nlp = spacy.load('en_core_web_sm')"
   ]
  },
  {
   "cell_type": "code",
   "execution_count": null,
   "metadata": {},
   "outputs": [],
   "source": []
  }
 ],
 "metadata": {
  "kernelspec": {
   "display_name": "Python 3 (ipykernel)",
   "language": "python",
   "name": "python3"
  },
  "language_info": {
   "codemirror_mode": {
    "name": "ipython",
    "version": 3
   },
   "file_extension": ".py",
   "mimetype": "text/x-python",
   "name": "python",
   "nbconvert_exporter": "python",
   "pygments_lexer": "ipython3",
   "version": "3.10.13"
  }
 },
 "nbformat": 4,
 "nbformat_minor": 4
}
